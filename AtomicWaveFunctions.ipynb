{
 "cells": [
  {
   "cell_type": "code",
   "execution_count": 1,
   "metadata": {},
   "outputs": [],
   "source": [
    "#! /usr/bin/env python3\n",
    "# -*- Coding: UTF-8 -*-"
   ]
  },
  {
   "cell_type": "code",
   "execution_count": 2,
   "metadata": {},
   "outputs": [
    {
     "data": {
      "text/plain": [
       "'\\nTime-independant normalized wave function for hydrogen-like atoms.\\n\\nThe comments below quoted with \"$$ $$\" are LaTeX codes, \\nwhich are mathematical formulas used.\\nIf you want to see the graphic, copy it to a LaTeX template below:\\n\\n\\\\documentclass[11pt,a4paper]{article}\\n\\\\pagestyle{empty}\\n\\\\begin{document}\\n\\\\begin{center}\\n$$\\n%% Paste the LaTeX expression here.\\n$$\\n\\\\end{center}\\n\\\\end{document}\\n\\nand save it as a xxx.ltx file.\\nThen compile it with command:\\nlatex xxx.ltx\\nRender it with:\\ndvipng --png -T tight -D 1024 -bg Transparent -o xxx.png xxx.dvi\\nOr if you want a white-background version, render with:\\ndvipng --png -T tight -D 1024 -o xxx.png xxx.dvi\\nIf you like a pdf file, just compile with:\\npdflatex xxx.ltx\\n'"
      ]
     },
     "execution_count": 2,
     "metadata": {},
     "output_type": "execute_result"
    }
   ],
   "source": [
    "r\"\"\"\n",
    "Time-independant normalized wave function for hydrogen-like atoms.\n",
    "\n",
    "The comments below quoted with \"$$ $$\" are LaTeX codes, \n",
    "which are mathematical formulas used.\n",
    "If you want to see the graphic, copy it to a LaTeX template below:\n",
    "\n",
    "\\documentclass[11pt,a4paper]{article}\n",
    "\\pagestyle{empty}\n",
    "\\begin{document}\n",
    "\\begin{center}\n",
    "$$\n",
    "%% Paste the LaTeX expression here.\n",
    "$$\n",
    "\\end{center}\n",
    "\\end{document}\n",
    "\n",
    "and save it as a xxx.ltx file.\n",
    "Then compile it with command:\n",
    "latex xxx.ltx\n",
    "Render it with:\n",
    "dvipng --png -T tight -D 1024 -bg Transparent -o xxx.png xxx.dvi\n",
    "Or if you want a white-background version, render with:\n",
    "dvipng --png -T tight -D 1024 -o xxx.png xxx.dvi\n",
    "If you like a pdf file, just compile with:\n",
    "pdflatex xxx.ltx\n",
    "\"\"\""
   ]
  },
  {
   "cell_type": "code",
   "execution_count": 3,
   "metadata": {},
   "outputs": [],
   "source": [
    "from __future__ import division\n",
    "import sympy as sym"
   ]
  },
  {
   "cell_type": "code",
   "execution_count": 4,
   "metadata": {},
   "outputs": [],
   "source": [
    "Z = sym.Symbol('Z')\n",
    "a0 = sym.Symbol('a0')\n",
    "# Z is the charge of the nucleus, for hydrogen it is 1\n",
    "# Z = 1\n",
    "# a0 is the Bohr radius for hydrogen atom. In atomic unit you can set it to 1.\n",
    "# a0 = 1.\n",
    "r = sym.Symbol('r')\n",
    "w = sym.Symbol('w')\n",
    "theta = sym.Symbol('theta')\n",
    "phi = sym.Symbol('phi')"
   ]
  },
  {
   "cell_type": "code",
   "execution_count": 5,
   "metadata": {},
   "outputs": [],
   "source": [
    "def P(l: int, m: int, w = sym.Symbol('w')):\n",
    "    r'''\n",
    "Generate the associated Legendre functions.\n",
    "\n",
    "$$\n",
    "P_l^{\\left\\vert m\\right\\vert}\\left(w\\right)\\equiv\n",
    "\\frac{1}{2^ll!}\\left(1-w^2\\right)^{\\frac{\\left\\vert m\\right\\vert}2}\n",
    "\\frac{\\mathrm d^{l+\\left\\vert m\\right\\vert}}\n",
    "{\\mathrm dw^{l+\\left\\vert m\\right\\vert}}\n",
    "\\left(w^2-1\\right)^l,l=0,1,2,\\cdots\n",
    "$$\n",
    "'''\n",
    "    ans = (1 / (2 ** l * sym.factorial(l)))\n",
    "    ans *= (1 - w ** 2) ** (sym.functions.elementary.complexes.Abs(m) / 2)\n",
    "    ans *= sym.diff(((w ** 2 - 1) ** l), w, (l + sym.functions.elementary.complexes.Abs(m)))\n",
    "    return ans"
   ]
  },
  {
   "cell_type": "code",
   "execution_count": 6,
   "metadata": {},
   "outputs": [],
   "source": [
    "def S(l: int, m: int, theta = sym.Symbol('theta')):\n",
    "    r'''\n",
    "$$\n",
    "S_{l,m}\\left(\\theta\\right)=\n",
    "\\left(\n",
    "\\frac{2l+1}{2}\\frac{\\left(l-\\left\\vert m\\right\\vert\\right)!}\n",
    "{\\left(l+\\left\\vert m\\right\\vert\\right)!}\n",
    "\\right)^{\\frac 1 2}\n",
    "P^{\\left\\vert m\\right\\vert}_l\n",
    "\\left(\\mathrm{cos}\\left(\\theta\\right)\\right)\n",
    "$$\n",
    "'''\n",
    "\n",
    "    ans = (2 * l + 1) / 2\n",
    "    ans *= sym.factorial(l - sym.functions.elementary.complexes.Abs(m))\n",
    "    ans /= sym.factorial(l + sym.functions.elementary.complexes.Abs(m))\n",
    "    ans **= 1 / 2\n",
    "    ans *= P(l, m, sym.cos(theta))\n",
    "    return ans"
   ]
  },
  {
   "cell_type": "code",
   "execution_count": 7,
   "metadata": {},
   "outputs": [],
   "source": [
    "def T(m: int, phi = sym.Symbol('phi')):\n",
    "    r'''\n",
    "$$\n",
    "T_m\\left(\\phi\\right)=\\frac 1{\\sqrt{2\\pi}}\\mathrm e^{\\mathrm im\\phi}\n",
    "$$\n",
    "'''\n",
    "    ans = 1 / sym.sqrt(2 * sym.pi)\n",
    "    ans *= sym.E ** (sym.I * m * phi)\n",
    "    return ans"
   ]
  },
  {
   "cell_type": "code",
   "execution_count": 8,
   "metadata": {},
   "outputs": [],
   "source": [
    "def TReal(m: int, phi = sym.Symbol('phi')):\n",
    "    r'''\n",
    "$$\n",
    "\\mathrm{Real}\\left(T_m\\left(\\phi\\right)\\right)=\n",
    "\\frac 1{\\sqrt{2\\pi}}\\mathrm{cos}\\left(m\\phi\\right)\n",
    "$$\n",
    "'''\n",
    "    ans = 1 / sym.sqrt(2 * sym.pi)\n",
    "    ans *= sym.cos(m * phi)\n",
    "    return ans"
   ]
  },
  {
   "cell_type": "code",
   "execution_count": 9,
   "metadata": {},
   "outputs": [],
   "source": [
    "def TImag(m: int, phi = sym.Symbol('phi')):\n",
    "    r'''\n",
    "$$\n",
    "\\mathrm{Imag}\\left(T_m\\left(\\phi\\right)\\right)=\n",
    "\\frac 1{\\sqrt{2\\pi}}\\mathrm{sin}\\left(m\\phi\\right)\n",
    "$$\n",
    "'''\n",
    "    ans = 1 / sym.sqrt(2 * sym.pi)\n",
    "    ans *= sym.sin(m * phi)\n",
    "    return ans"
   ]
  },
  {
   "cell_type": "code",
   "execution_count": 10,
   "metadata": {},
   "outputs": [],
   "source": [
    "def Y(l: int, m: int, theta = sym.Symbol('theta'), phi = sym.Symbol('phi')):\n",
    "    r'''\n",
    "$$\n",
    "Y_{l,m}\\left(\\theta,\\phi\\right)=S_{l,m}\\left(\\theta\\right)T_m\\left(\\phi\\right)\n",
    "$$\n",
    "'''\n",
    "    return S(l, m, theta) * T(m, phi)"
   ]
  },
  {
   "cell_type": "code",
   "execution_count": 11,
   "metadata": {},
   "outputs": [],
   "source": [
    "def YReal(l: int, m: int, theta = sym.Symbol('theta'), phi = sym.Symbol('phi')):\n",
    "    r'''\n",
    "$$\n",
    "\\mathrm{Real}\\left(Y_{l,m}\\left(\\theta,\\phi\\right)\\right)=\n",
    "S_{l,m}\\left(\\theta\\right)\\mathrm{Real}\\left(T_m\\left(\\phi\\right)\\right)\n",
    "$$\n",
    "'''\n",
    "    return S(l, m, theta) * TReal(m, phi)"
   ]
  },
  {
   "cell_type": "code",
   "execution_count": 12,
   "metadata": {},
   "outputs": [],
   "source": [
    "def YImag(l: int, m: int, theta = sym.Symbol('theta'), phi = sym.Symbol('phi')):\n",
    "    r'''\n",
    "$$\n",
    "\\mathrm{Imag}\\left(Y_{l,m}\\left(\\theta,\\phi\\right)\\right)=\n",
    "S_{l,m}\\left(\\theta\\right)\\mathrm{Imag}\\left(T_m\\left(\\phi\\right)\\right)\n",
    "$$\n",
    "'''\n",
    "    return S(l, m, theta) * TImag(m, phi)"
   ]
  },
  {
   "cell_type": "code",
   "execution_count": 13,
   "metadata": {},
   "outputs": [],
   "source": [
    "def Calc_b_0(n: int, l: int):\n",
    "    r'''\n",
    "b_0 is calculated through the normalized integral.\n",
    "\n",
    "$$\n",
    "\\int\\limits_0^{+\\infty}\n",
    "{\\left\\vert R_{nl}\\left(r\\right)\\right\\vert}^2r^2\\mathrm dr=1\n",
    "$$\n",
    "\n",
    "$$\n",
    "b_{0\\left(n,l\\right)}=\\frac {\\left(\\frac{2Z}{na_0}\\right)^{\\frac {2l+3} 2}}\n",
    "{\\sqrt{\\sum\\limits_{j=0}^{n-l-1}\n",
    "\\sum\\limits_{k=0}^{n-l-1}\\left(\n",
    "\\left(\\prod\\limits_{u=0}^{j-1}\\frac{u+l+1-n}{\\left(u+1\\right)\n",
    "\\left(u+2l+2\\right)}\\right)\n",
    "\\left(\\prod\\limits_{v=0}^{k-1}\\frac{v+l+1-n}{\\left(v+1\\right)\n",
    "\\left(v+2l+2\\right)}\\right)\n",
    "\\left(\\left(j+k+2l+2\\right)!\\right)\\right)}}\n",
    "$$\n",
    "'''\n",
    "    global Z, a0\n",
    "    tmp = [0., 0., 0., 0.]\n",
    "    tmp[0] = ((2 * Z) / (n * a0)) ** ((2 * l + 3) / 2)\n",
    "    tmp[1] = 0.\n",
    "    for j in range(n - l):\n",
    "        tmp[2] = 0.\n",
    "        for k in range(n - l):\n",
    "            tmp[3] = sym.factorial(j + k + 2 * l + 2)\n",
    "            for u in range(j):\n",
    "                tmp[3] *= (u + l + 1 - n) / ((u + 1) * (u + 2 * l + 2))\n",
    "            for v in range(k):\n",
    "                tmp[3] *= (v + l + 1 - n) / ((v + 1) * (v + 2 * l + 2))\n",
    "            tmp[2] += tmp[3]\n",
    "        tmp[1] += tmp[2]\n",
    "    ans = tmp[0] / sym.sqrt(tmp[1])\n",
    "    return ans"
   ]
  },
  {
   "cell_type": "code",
   "execution_count": 14,
   "metadata": {},
   "outputs": [],
   "source": [
    "def R(n: int, l: int, r = sym.Symbol('r')):\n",
    "    r'''\n",
    "$$\n",
    "R_{nl}\\left(r\\right)=\n",
    "r^l\\mathrm e^{-\\frac{Zr}{na_0}}\\sum\\limits_{j=0}^{n-l-1}{b_{j\\left(n,l\\right)}r^j}\n",
    "$$\n",
    "'''\n",
    "    global Z, a0\n",
    "    # Calculate b_{0(n,l)} here.\n",
    "    b = [Calc_b_0(n, l),]\n",
    "    for index in range(n - l - 1):\n",
    "        tmp = (2 * Z) / (n * a0)\n",
    "        tmp *= (index + l + 1 - n)/((index + 1) * (index + 2 * l + 2))\n",
    "        tmp *= b[index]\n",
    "        b.append(tmp)\n",
    "    ans = 0.\n",
    "    for index in range(n - l): ans += b[index] * r ** index\n",
    "    ans *= r ** l * sym.E ** (- (Z * r) / (n * a0))\n",
    "    return ans"
   ]
  },
  {
   "cell_type": "code",
   "execution_count": 15,
   "metadata": {},
   "outputs": [],
   "source": [
    "def psi(n: int, l: int, m: int, r = sym.Symbol('r'),\n",
    "        theta = sym.Symbol('theta'), phi = sym.Symbol('phi')):\n",
    "    r'''\n",
    "$$\n",
    "\\psi\\left(r,\\theta,\\phi\\right)\n",
    "=R_{n,l}\\left(r\\right)Y_{l,m}\\left(\\theta,\\phi\\right)\n",
    "$$\n",
    "'''\n",
    "    return R(n, l, r) * Y(l, m, theta, phi)"
   ]
  },
  {
   "cell_type": "code",
   "execution_count": 16,
   "metadata": {},
   "outputs": [],
   "source": [
    "def psiReal(n: int, l: int, m: int, r = sym.Symbol('r'),\n",
    "        theta = sym.Symbol('theta'), phi = sym.Symbol('phi')):\n",
    "    r'''\n",
    "$$\n",
    "\\mathrm{Real}\\left(\\psi\\left(r,\\theta,\\phi\\right)\\right)\n",
    "=R_{n,l}\\left(r\\right)\\mathrm{Real}\n",
    "\\left(Y_{l,m}\\left(\\theta,\\phi\\right)\\right)\n",
    "$$\n",
    "'''\n",
    "    return R(n, l, r) * YReal(l, m, theta, phi)"
   ]
  },
  {
   "cell_type": "code",
   "execution_count": 17,
   "metadata": {},
   "outputs": [],
   "source": [
    "def psiImag(n: int, l: int, m: int, r = sym.Symbol('r'),\n",
    "        theta = sym.Symbol('theta'), phi = sym.Symbol('phi')):\n",
    "    r'''\n",
    "$$\n",
    "\\mathrm{Imag}\\left(\\psi\\left(r,\\theta,\\phi\\right)\\right)\n",
    "=R_{n,l}\\left(r\\right)\\mathrm{Imag}\n",
    "\\left(Y_{l,m}\\left(\\theta,\\phi\\right)\\right)\n",
    "$$\n",
    "'''\n",
    "    return R(n, l, r) * YImag(l, m, theta, phi)"
   ]
  },
  {
   "cell_type": "code",
   "execution_count": 18,
   "metadata": {},
   "outputs": [],
   "source": [
    "# usage: psi(2, 1, 0)"
   ]
  }
 ],
 "metadata": {
  "kernelspec": {
   "display_name": "Python 3",
   "language": "python",
   "name": "python3"
  },
  "language_info": {
   "codemirror_mode": {
    "name": "ipython",
    "version": 3
   },
   "file_extension": ".py",
   "mimetype": "text/x-python",
   "name": "python",
   "nbconvert_exporter": "python",
   "pygments_lexer": "ipython3",
   "version": "3.7.0"
  }
 },
 "nbformat": 4,
 "nbformat_minor": 2
}
